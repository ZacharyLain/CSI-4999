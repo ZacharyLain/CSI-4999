{
 "cells": [
  {
   "cell_type": "code",
   "execution_count": null,
   "metadata": {},
   "outputs": [],
   "source": [
    "import os\n",
    "import torch\n",
    "import torchvision.transforms as transforms\n",
    "from PIL import Image"
   ]
  },
  {
   "cell_type": "code",
   "execution_count": null,
   "metadata": {},
   "outputs": [],
   "source": [
    "# Set up device\n",
    "device = torch.device(\"cuda\" if torch.cuda.is_available() else \"cpu\")\n",
    "\n",
    "# Load model\n",
    "model_path = os.path.join(os.path.pardir(__file__), \"/models/torch_resnet50_base_additional_convs-0_model.pth\")\n",
    "model = torch.load(model_path, map_location=device)\n",
    "model.eval()"
   ]
  },
  {
   "cell_type": "code",
   "execution_count": null,
   "metadata": {},
   "outputs": [],
   "source": [
    "# Define the transformation pipeline.\n",
    "transform = transforms.Compose([\n",
    "    transforms.Resize(256),               # Resize the shorter side to 256 pixels.\n",
    "    transforms.CenterCrop(224),           # Crop the center 224x224 region.\n",
    "    transforms.ToTensor(),                # Convert image to PyTorch tensor.\n",
    "    transforms.Normalize(                 # Normalize with ImageNet means and stds.\n",
    "        mean=[0.485, 0.456, 0.406],\n",
    "        std=[0.229, 0.224, 0.225]\n",
    "    )\n",
    "])\n",
    "\n",
    "# Load the image. Replace 'path/to/your/image.jpg' with your image file path.\n",
    "image_path = 'path/to/your/image.jpg'\n",
    "image = Image.open(image_path).convert('RGB')  # Ensure the image is in RGB format.\n",
    "input_tensor = transform(image)\n",
    "\n",
    "# Add a batch dimension since PyTorch models expect a batch of images.\n",
    "input_batch = input_tensor.unsqueeze(0).to(device)"
   ]
  },
  {
   "cell_type": "code",
   "execution_count": null,
   "metadata": {},
   "outputs": [],
   "source": []
  }
 ],
 "metadata": {
  "kernelspec": {
   "display_name": "csi4999",
   "language": "python",
   "name": "python3"
  },
  "language_info": {
   "name": "python",
   "version": "3.9.18"
  }
 },
 "nbformat": 4,
 "nbformat_minor": 2
}
